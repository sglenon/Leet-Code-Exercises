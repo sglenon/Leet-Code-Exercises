{
 "cells": [
  {
   "cell_type": "markdown",
   "id": "b58f01fa",
   "metadata": {},
   "source": [
    "# Statement of Problem"
   ]
  },
  {
   "cell_type": "markdown",
   "id": "7424b8e5",
   "metadata": {},
   "source": [
    "You are given an m x n integer grid accounts where accounts[i][j] is the amount of money the i​​​​​​​​​​​th​​​​ customer has in the j​​​​​​​​​​​th​​​​ bank. Return the wealth that the richest customer has.\n",
    "\n",
    "A customer's wealth is the amount of money they have in all their bank accounts. The richest customer is the customer that has the maximum wealth.\n",
    "\n",
    " \n",
    "\n",
    "Example 1:\n",
    "\n",
    "Input: accounts = [[1,2,3],[3,2,1]]\n",
    "\n",
    "Output: 6\n",
    "\n",
    "Explanation:\n",
    "\n",
    "1st customer has wealth = 1 + 2 + 3 = 6\n",
    "\n",
    "2nd customer has wealth = 3 + 2 + 1 = 6\n",
    "\n",
    "Both customers are considered the richest with a wealth of 6 each, so return 6.\n",
    "\n",
    "Example 2:\n",
    "\n",
    "\n",
    "Input: accounts = [[1,5],[7,3],[3,5]]\n",
    "\n",
    "Output: 10\n",
    "\n",
    "Explanation: \n",
    "\n",
    "1st customer has wealth = 6\n",
    "\n",
    "2nd customer has wealth = 10 \n",
    "\n",
    "3rd customer has wealth = 8\n",
    "\n",
    "The 2nd customer is the richest with a wealth of 10.\n",
    "\n",
    "Example 3:\n",
    "\n",
    "Input: accounts = [[2,8,7],[7,1,3],[1,9,5]]\n",
    "\n",
    "Output: 17\n",
    " \n",
    "\n",
    "Constraints:\n",
    "\n",
    "m == accounts.length\n",
    "n == accounts[i].length\n",
    "1 <= m, n <= 50\n",
    "1 <= accounts[i][j] <= 100"
   ]
  },
  {
   "cell_type": "markdown",
   "id": "2cd746d7",
   "metadata": {},
   "source": [
    "# Solution"
   ]
  },
  {
   "cell_type": "markdown",
   "id": "877ec0ff",
   "metadata": {},
   "source": [
    "Wrong answer #1"
   ]
  },
  {
   "cell_type": "code",
   "execution_count": null,
   "id": "b5f055af",
   "metadata": {},
   "outputs": [],
   "source": [
    "class Solution(object):\n",
    "    def maximumWealth(self, accounts):\n",
    "        \"\"\"\n",
    "        :type accounts: List[List[int]]\n",
    "        :rtype: int\n",
    "        \"\"\"\n",
    "        \n",
    "        for subset in accounts:\n",
    "            sums = []\n",
    "            for item in subset:\n",
    "                subsum = 0\n",
    "                subsum += item\n",
    "                return subsum\n",
    "            sums.append(subsum)\n",
    "            return sums\n",
    "\n",
    "# test\n",
    "sol = Solution()\n",
    "accounts = [[1,2,3],[3,2,1]]\n",
    "print(sol.maximumWealth(accounts))"
   ]
  }
 ],
 "metadata": {
  "kernelspec": {
   "display_name": ".venv",
   "language": "python",
   "name": "python3"
  },
  "language_info": {
   "name": "python",
   "version": "3.13.2"
  }
 },
 "nbformat": 4,
 "nbformat_minor": 5
}
