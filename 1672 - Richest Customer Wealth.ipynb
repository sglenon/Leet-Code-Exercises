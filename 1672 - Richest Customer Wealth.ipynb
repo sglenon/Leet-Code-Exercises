{
 "cells": [
  {
   "cell_type": "markdown",
   "id": "b58f01fa",
   "metadata": {},
   "source": [
    "# Statement of Problem"
   ]
  },
  {
   "cell_type": "markdown",
   "id": "7424b8e5",
   "metadata": {},
   "source": [
    "You are given an m x n integer grid accounts where accounts[i][j] is the amount of money the i​​​​​​​​​​​th​​​​ customer has in the j​​​​​​​​​​​th​​​​ bank. Return the wealth that the richest customer has.\n",
    "\n",
    "A customer's wealth is the amount of money they have in all their bank accounts. The richest customer is the customer that has the maximum wealth.\n",
    "\n",
    " \n",
    "\n",
    "Example 1:\n",
    "\n",
    "Input: accounts = [[1,2,3],[3,2,1]]\n",
    "\n",
    "Output: 6\n",
    "\n",
    "Explanation:\n",
    "\n",
    "1st customer has wealth = 1 + 2 + 3 = 6\n",
    "\n",
    "2nd customer has wealth = 3 + 2 + 1 = 6\n",
    "\n",
    "Both customers are considered the richest with a wealth of 6 each, so return 6.\n",
    "\n",
    "Example 2:\n",
    "\n",
    "\n",
    "Input: accounts = [[1,5],[7,3],[3,5]]\n",
    "\n",
    "Output: 10\n",
    "\n",
    "Explanation: \n",
    "\n",
    "1st customer has wealth = 6\n",
    "\n",
    "2nd customer has wealth = 10 \n",
    "\n",
    "3rd customer has wealth = 8\n",
    "\n",
    "The 2nd customer is the richest with a wealth of 10.\n",
    "\n",
    "Example 3:\n",
    "\n",
    "Input: accounts = [[2,8,7],[7,1,3],[1,9,5]]\n",
    "\n",
    "Output: 17\n",
    " \n",
    "\n",
    "Constraints:\n",
    "\n",
    "m == accounts.length\n",
    "n == accounts[i].length\n",
    "1 <= m, n <= 50\n",
    "1 <= accounts[i][j] <= 100"
   ]
  },
  {
   "cell_type": "markdown",
   "id": "2cd746d7",
   "metadata": {},
   "source": [
    "# Solution"
   ]
  },
  {
   "cell_type": "markdown",
   "id": "877ec0ff",
   "metadata": {},
   "source": [
    "Wrong answer #1"
   ]
  },
  {
   "cell_type": "code",
   "execution_count": 35,
   "id": "b5f055af",
   "metadata": {},
   "outputs": [],
   "source": [
    "class Solution(object):\n",
    "    def maximumWealth(self, accounts):\n",
    "        \"\"\"\n",
    "        :type accounts: List[List[int]]\n",
    "        :rtype: int\n",
    "        \"\"\"\n",
    "        sums = []\n",
    "        for sub_set in accounts:\n",
    "            sub_sum = sum(sub_set)\n",
    "            sums.append(sub_sum)\n",
    "        max_output = max(sums)\n",
    "        return max_output\n",
    "\n",
    "sol = Solution()"
   ]
  },
  {
   "cell_type": "code",
   "execution_count": 38,
   "id": "c669f915",
   "metadata": {},
   "outputs": [
    {
     "name": "stdout",
     "output_type": "stream",
     "text": [
      "6\n",
      "True\n"
     ]
    }
   ],
   "source": [
    "\n",
    "# test 1\n",
    "\n",
    "accounts = [[1,2,3],[3,2,1]]\n",
    "print(sol.maximumWealth(accounts))\n",
    "\n",
    "expected_output = 6 \n",
    "print(expected_output == sol.maximumWealth(accounts))"
   ]
  },
  {
   "cell_type": "code",
   "execution_count": 39,
   "id": "190dd0b5",
   "metadata": {},
   "outputs": [
    {
     "name": "stdout",
     "output_type": "stream",
     "text": [
      "10\n",
      "True\n"
     ]
    }
   ],
   "source": [
    "# test 2 \n",
    "accounts = [[1,5],[7,3],[3,5]]\n",
    "print(sol.maximumWealth(accounts))\n",
    "\n",
    "expected_output = 10 \n",
    "print(expected_output == sol.maximumWealth(accounts))"
   ]
  }
 ],
 "metadata": {
  "kernelspec": {
   "display_name": ".venv",
   "language": "python",
   "name": "python3"
  },
  "language_info": {
   "codemirror_mode": {
    "name": "ipython",
    "version": 3
   },
   "file_extension": ".py",
   "mimetype": "text/x-python",
   "name": "python",
   "nbconvert_exporter": "python",
   "pygments_lexer": "ipython3",
   "version": "3.13.2"
  }
 },
 "nbformat": 4,
 "nbformat_minor": 5
}
