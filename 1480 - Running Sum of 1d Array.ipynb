{
 "cells": [
  {
   "cell_type": "markdown",
   "id": "29570a1f",
   "metadata": {},
   "source": [
    "# Statement of Problem\n",
    "Given an array nums. We define a running sum of an array as runningSum[i] = sum(nums[0]…nums[i]).\n",
    "\n",
    "Return the running sum of nums."
   ]
  },
  {
   "cell_type": "markdown",
   "id": "3321aa58",
   "metadata": {},
   "source": []
  },
  {
   "cell_type": "markdown",
   "id": "07d79ceb",
   "metadata": {},
   "source": [
    "## Example 1:\n",
    "\n",
    "Input: nums = [1,2,3,4]\n",
    "\n",
    "Output: [1,3,6,10]\n",
    "\n",
    "Explanation: Running sum is obtained as follows: [1, 1+2, 1+2+3, 1+2+3+4].\n",
    "\n",
    "\n",
    "## Example 2:\n",
    "\n",
    "Input: nums = [1,1,1,1,1]\n",
    "\n",
    "Output: [1,2,3,4,5]\n",
    "\n",
    "Explanation: Running sum is obtained as follows: [1, 1+1, 1+1+1, 1+1+1+1, 1+1+1+1+1].\n",
    "\n",
    "## Example 3:\n",
    "\n",
    "Input: nums = [3,1,2,10,1]\n",
    "\n",
    "Output: [3,4,6,16,17]\n",
    " \n",
    "\n",
    "## Constraints:\n",
    "\n",
    "1 <= nums.length <= 1000\n",
    "\n",
    "-10^6 <= nums[i] <= 10^6"
   ]
  },
  {
   "cell_type": "code",
   "execution_count": 1,
   "id": "fb1597f2",
   "metadata": {},
   "outputs": [],
   "source": [
    "class Solution(object):\n",
    "    def runningSum(self, nums):\n",
    "        \"\"\"\n",
    "        :type nums: List[int]\n",
    "        :rtype: List[int]\n",
    "        \"\"\"\n",
    "        result = []\n",
    "        running_total = 0\n",
    "        for num in nums:\n",
    "            running_total += num\n",
    "            result.append(running_total)\n",
    "        return result\n",
    "\n"
   ]
  },
  {
   "cell_type": "code",
   "execution_count": 2,
   "id": "83409f2d",
   "metadata": {},
   "outputs": [
    {
     "name": "stdout",
     "output_type": "stream",
     "text": [
      "[1, 3, 6, 10]\n"
     ]
    }
   ],
   "source": [
    "sol = Solution()\n",
    "print(sol.runningSum([1,2,3,4]))     "
   ]
  },
  {
   "cell_type": "code",
   "execution_count": 3,
   "id": "c165da38",
   "metadata": {},
   "outputs": [
    {
     "name": "stdout",
     "output_type": "stream",
     "text": [
      "[1, 2, 3, 4, 5]\n"
     ]
    }
   ],
   "source": [
    "print(sol.runningSum([1,1,1,1,1]))  "
   ]
  },
  {
   "cell_type": "code",
   "execution_count": 4,
   "id": "989073bf",
   "metadata": {},
   "outputs": [
    {
     "name": "stdout",
     "output_type": "stream",
     "text": [
      "[3, 4, 6, 16, 17]\n"
     ]
    }
   ],
   "source": [
    "print(sol.runningSum([3,1,2,10,1])) "
   ]
  },
  {
   "cell_type": "markdown",
   "id": "76f20a7b",
   "metadata": {},
   "source": [
    "✅ Success! "
   ]
  }
 ],
 "metadata": {
  "kernelspec": {
   "display_name": ".venv",
   "language": "python",
   "name": "python3"
  },
  "language_info": {
   "codemirror_mode": {
    "name": "ipython",
    "version": 3
   },
   "file_extension": ".py",
   "mimetype": "text/x-python",
   "name": "python",
   "nbconvert_exporter": "python",
   "pygments_lexer": "ipython3",
   "version": "3.13.2"
  }
 },
 "nbformat": 4,
 "nbformat_minor": 5
}
