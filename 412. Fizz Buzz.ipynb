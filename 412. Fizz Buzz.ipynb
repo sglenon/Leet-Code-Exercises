{
 "cells": [
  {
   "cell_type": "markdown",
   "id": "85930f71",
   "metadata": {},
   "source": [
    "#  412. Fizz Buzz"
   ]
  },
  {
   "cell_type": "markdown",
   "id": "5f282461",
   "metadata": {},
   "source": [
    "## Instructions"
   ]
  },
  {
   "cell_type": "markdown",
   "id": "1e9206c4",
   "metadata": {},
   "source": [
    "Given an integer n, return a string array answer (1-indexed) where:\n",
    "\n",
    "answer[i] == \"FizzBuzz\" if i is divisible by 3 and 5.\n",
    "\n",
    "answer[i] == \"Fizz\" if i is divisible by 3.\n",
    "\n",
    "answer[i] == \"Buzz\" if i is divisible by 5.\n",
    "\n",
    "answer[i] == i (as a string) if none of the above conditions are true."
   ]
  },
  {
   "cell_type": "markdown",
   "id": "3e3fb1bc",
   "metadata": {},
   "source": [
    "## Examples"
   ]
  },
  {
   "cell_type": "markdown",
   "id": "8178106c",
   "metadata": {},
   "source": [
    "Example 1:\n",
    "\n",
    "Input: n = 3\n",
    "\n",
    "Output: [\"1\",\"2\",\"Fizz\"]\n",
    "\n",
    "\n",
    "Example 2:\n",
    "\n",
    "Input: n = 5\n",
    "\n",
    "Output: [\"1\",\"2\",\"Fizz\",\"4\",\"Buzz\"]\n",
    "\n",
    "\n",
    "Example 3:\n",
    "\n",
    "Input: n = 15\n",
    "\n",
    "Output: [\"1\",\"2\",\"Fizz\",\"4\",\"Buzz\",\"Fizz\",\"7\",\"8\",\"Fizz\",\"Buzz\",\"11\",\"Fizz\",\"13\",\"14\",\"FizzBuzz\"]"
   ]
  },
  {
   "cell_type": "markdown",
   "id": "3aba38b8",
   "metadata": {},
   "source": [
    "## Solution"
   ]
  },
  {
   "cell_type": "code",
   "execution_count": 1,
   "id": "7001a9f5",
   "metadata": {},
   "outputs": [],
   "source": [
    "class Solution(object):\n",
    "    def fizzBuzz(self, n):\n",
    "        \"\"\"\n",
    "        :type n: int\n",
    "        :rtype: List[str]\n",
    "        \"\"\"\n",
    "        result = []\n",
    "        for i in range(1, n + 1):\n",
    "            if i % 3 == 0 and i % 5 == 0:\n",
    "                result.append(\"FizzBuzz\")\n",
    "            elif i % 3 == 0:\n",
    "                result.append(\"Fizz\")\n",
    "            elif i % 5 == 0:\n",
    "                result.append(\"Buzz\")\n",
    "            else:\n",
    "                result.append(str(i))\n",
    "        return result"
   ]
  },
  {
   "cell_type": "code",
   "execution_count": 2,
   "id": "5f6d3d14",
   "metadata": {},
   "outputs": [],
   "source": [
    "sol = Solution()"
   ]
  },
  {
   "cell_type": "code",
   "execution_count": 4,
   "id": "1c9938c0",
   "metadata": {},
   "outputs": [
    {
     "name": "stdout",
     "output_type": "stream",
     "text": [
      "['1', '2', 'Fizz', '4', 'Buzz', 'Fizz', '7', '8', 'Fizz', 'Buzz', '11', 'Fizz', '13', '14', 'FizzBuzz']\n",
      "True\n"
     ]
    }
   ],
   "source": [
    "print(sol.fizzBuzz(15))\n",
    "expected_output = [\"1\",\"2\",\"Fizz\",\"4\",\"Buzz\",\"Fizz\",\"7\",\"8\",\"Fizz\",\"Buzz\",\"11\",\"Fizz\",\"13\",\"14\",\"FizzBuzz\"]\n",
    "print(expected_output == sol.fizzBuzz(15))"
   ]
  }
 ],
 "metadata": {
  "kernelspec": {
   "display_name": ".venv",
   "language": "python",
   "name": "python3"
  },
  "language_info": {
   "codemirror_mode": {
    "name": "ipython",
    "version": 3
   },
   "file_extension": ".py",
   "mimetype": "text/x-python",
   "name": "python",
   "nbconvert_exporter": "python",
   "pygments_lexer": "ipython3",
   "version": "3.13.2"
  }
 },
 "nbformat": 4,
 "nbformat_minor": 5
}
