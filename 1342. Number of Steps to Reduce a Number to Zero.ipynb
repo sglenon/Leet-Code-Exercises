{
 "cells": [
  {
   "cell_type": "markdown",
   "id": "025bf705",
   "metadata": {},
   "source": [
    "Given an integer num, return the number of steps to reduce it to zero.\n",
    "\n",
    "In one step, if the current number is even, you have to divide it by 2, otherwise, you have to subtract 1 from it."
   ]
  },
  {
   "cell_type": "markdown",
   "id": "4a4b0b23",
   "metadata": {},
   "source": [
    "**Example**\n",
    "\n",
    "Input: num = 8 \n",
    "\n",
    "Output: 4\n",
    "\n",
    "Explanation: \n",
    "\n",
    "Step 1) 8 is even; divide by 2 and obtain 4. \n",
    "\n",
    "Step 2) 4 is even; divide by 2 and obtain 2. \n",
    "\n",
    "Step 3) 2 is even; divide by 2 and obtain 1. \n",
    "\n",
    "Step 4) 1 is odd; subtract 1 and obtain 0."
   ]
  },
  {
   "cell_type": "code",
   "execution_count": 1,
   "id": "fe6697a7",
   "metadata": {},
   "outputs": [],
   "source": [
    "class Solution(object):\n",
    "    def numberOfSteps(self, num):\n",
    "        \"\"\"\n",
    "        :type num: int\n",
    "        :rtype: int\n",
    "        \"\"\"\n",
    "        steps = 0\n",
    "        num = num \n",
    "        while num != 0:\n",
    "            if num % 2 == 0: \n",
    "                num = num / 2\n",
    "                steps += 1\n",
    "            elif num % 2 != 0:\n",
    "                num = num - 1\n",
    "                steps += 1\n",
    "        return steps "
   ]
  },
  {
   "cell_type": "code",
   "execution_count": 2,
   "id": "2740a584",
   "metadata": {},
   "outputs": [],
   "source": [
    "sol = Solution()"
   ]
  },
  {
   "cell_type": "code",
   "execution_count": null,
   "id": "441b9fdf",
   "metadata": {},
   "outputs": [],
   "source": [
    "num = 14\n",
    "result = sol.numberOfSteps(num=num)"
   ]
  }
 ],
 "metadata": {
  "kernelspec": {
   "display_name": ".venv",
   "language": "python",
   "name": "python3"
  },
  "language_info": {
   "codemirror_mode": {
    "name": "ipython",
    "version": 3
   },
   "file_extension": ".py",
   "mimetype": "text/x-python",
   "name": "python",
   "nbconvert_exporter": "python",
   "pygments_lexer": "ipython3",
   "version": "3.13.2"
  }
 },
 "nbformat": 4,
 "nbformat_minor": 5
}
