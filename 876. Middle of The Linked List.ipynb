{
 "cells": [
  {
   "cell_type": "markdown",
   "id": "9050fe9d",
   "metadata": {},
   "source": [
    "Given the head of a singly linked list, return the middle node of the linked list.\n",
    "\n",
    "If there are two middle nodes, return the second middle node."
   ]
  },
  {
   "cell_type": "markdown",
   "id": "782451a2",
   "metadata": {},
   "source": [
    "Input: head = [1,2,3,4,5]\n",
    "\n",
    "Output: [3,4,5]\n",
    "\n",
    "Explanation: The middle node of the list is node 3.\n"
   ]
  },
  {
   "cell_type": "code",
   "execution_count": null,
   "id": "6f601e4d",
   "metadata": {},
   "outputs": [],
   "source": [
    "# Definition for singly-linked list.\n",
    "# class ListNode(object):\n",
    "#     def __init__(self, val=0, next=None):\n",
    "#         self.val = val\n",
    "#         self.next = next\n",
    "\n",
    "class Solution(object):\n",
    "    def middleNode(self, head):\n",
    "        \"\"\"\n",
    "        :type head: Optional[ListNode]\n",
    "        :rtype: Optional[ListNode]\n",
    "        \"\"\"\n",
    "        # Step 1: Count the total number of nodes\n",
    "        n = 0\n",
    "        current = head\n",
    "        while current:\n",
    "            n += 1\n",
    "            current = current.next\n",
    "\n",
    "        # Step 2: Find the middle index\n",
    "        mid = n // 2  # works for both even and odd cases\n",
    "\n",
    "        # Step 3: Traverse again to the middle node\n",
    "        current = head\n",
    "        for _ in range(mid):\n",
    "            current = current.next\n",
    "\n",
    "        return current\n"
   ]
  },
  {
   "cell_type": "code",
   "execution_count": 37,
   "id": "51b95865",
   "metadata": {},
   "outputs": [
    {
     "name": "stdout",
     "output_type": "stream",
     "text": [
      "[4, 5, 6]\n",
      "True\n"
     ]
    }
   ],
   "source": [
    "sol = Solution()\n",
    "head = [1,2,3,4,5,6] \n",
    "expected = [4,5,6] \n",
    "print(sol.middleNode(head))\n",
    "print(sol.middleNode(head) == expected)"
   ]
  },
  {
   "cell_type": "code",
   "execution_count": 38,
   "id": "dfb8e9ca",
   "metadata": {},
   "outputs": [
    {
     "name": "stdout",
     "output_type": "stream",
     "text": [
      "[3, 4, 5]\n",
      "False\n"
     ]
    }
   ],
   "source": [
    "sol = Solution()\n",
    "head = [1,2,3,4,5,] \n",
    "expected = [3,5,6] \n",
    "print(sol.middleNode(head))\n",
    "print(sol.middleNode(head) == expected)"
   ]
  }
 ],
 "metadata": {
  "kernelspec": {
   "display_name": ".venv",
   "language": "python",
   "name": "python3"
  },
  "language_info": {
   "codemirror_mode": {
    "name": "ipython",
    "version": 3
   },
   "file_extension": ".py",
   "mimetype": "text/x-python",
   "name": "python",
   "nbconvert_exporter": "python",
   "pygments_lexer": "ipython3",
   "version": "3.13.2"
  }
 },
 "nbformat": 4,
 "nbformat_minor": 5
}
